{
 "cells": [
  {
   "cell_type": "code",
   "execution_count": 33,
   "metadata": {},
   "outputs": [],
   "source": [
    "import numpy as np\n",
    "import random"
   ]
  },
  {
   "cell_type": "code",
   "execution_count": 34,
   "metadata": {},
   "outputs": [],
   "source": [
    "x_train_path = \"data/trainData.npy\"\n",
    "y_train_path = \"data/trainTarget.npy\""
   ]
  },
  {
   "cell_type": "code",
   "execution_count": 35,
   "metadata": {},
   "outputs": [],
   "source": [
    "def loadnpy(path):\n",
    "    data = np.load(path)\n",
    "    return data"
   ]
  },
  {
   "cell_type": "code",
   "execution_count": 36,
   "metadata": {},
   "outputs": [],
   "source": [
    "x_train = loadnpy(x_train_path)\n",
    "y_train = loadnpy(y_train_path)\n"
   ]
  },
  {
   "cell_type": "code",
   "execution_count": 37,
   "metadata": {},
   "outputs": [],
   "source": [
    "x_npArr = []\n",
    "y_npArr = []\n",
    "index_list = []\n",
    "\n",
    "for i in range(1000):\n",
    "    index = random.randint(1, len(x_train))\n",
    "    index -= 1\n",
    "    if index in index_list:\n",
    "        index = random.randint(1, len(x_train))\n",
    "    index_list.append(index)\n",
    "    \n",
    "    x_npArr.append(x_train[i])\n",
    "    y_npArr.append(y_train[i])"
   ]
  },
  {
   "cell_type": "code",
   "execution_count": 38,
   "metadata": {},
   "outputs": [],
   "source": [
    "np.save(\"data/x_test\", x_npArr)\n",
    "np.save(\"data/y_test\", y_npArr)"
   ]
  },
  {
   "cell_type": "code",
   "execution_count": null,
   "metadata": {},
   "outputs": [],
   "source": []
  }
 ],
 "metadata": {
  "kernelspec": {
   "display_name": "Python 3",
   "language": "python",
   "name": "python3"
  },
  "language_info": {
   "codemirror_mode": {
    "name": "ipython",
    "version": 3
   },
   "file_extension": ".py",
   "mimetype": "text/x-python",
   "name": "python",
   "nbconvert_exporter": "python",
   "pygments_lexer": "ipython3",
   "version": "3.7.3"
  }
 },
 "nbformat": 4,
 "nbformat_minor": 2
}
