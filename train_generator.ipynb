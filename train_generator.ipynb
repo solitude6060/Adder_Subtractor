{
 "cells": [
  {
   "cell_type": "markdown",
   "metadata": {},
   "source": [
    "# Generate training data"
   ]
  },
  {
   "cell_type": "code",
   "execution_count": 1,
   "metadata": {},
   "outputs": [],
   "source": [
    "from sklearn.preprocessing import LabelEncoder"
   ]
  },
  {
   "cell_type": "code",
   "execution_count": 2,
   "metadata": {},
   "outputs": [
    {
     "data": {
      "text/plain": [
       "LabelEncoder()"
      ]
     },
     "execution_count": 2,
     "metadata": {},
     "output_type": "execute_result"
    }
   ],
   "source": [
    "# onehot 編碼\n",
    "onehot_label = [\"0\",\"1\",\"2\",\"3\",\"4\",\"5\",\"6\",\"7\",\"8\",\"9\",\"+\",\"-\",\" \"]\n",
    "encoder = LabelEncoder()\n",
    "encoder.fit(onehot_label)"
   ]
  },
  {
   "cell_type": "code",
   "execution_count": 3,
   "metadata": {},
   "outputs": [],
   "source": [
    "def get_onehot(dataset):\n",
    "    dataset_onehot = []\n",
    "    for data in dataset:\n",
    "        data_onehot = encoder.transform(list(data))\n",
    "        data_onehot = np_utils.to_categorical(data_onehot, num_classes=len(onehot_label))\n",
    "        dataset_onehot.append(data_onehot)\n",
    "    return dataset_onehot\n"
   ]
  },
  {
   "cell_type": "code",
   "execution_count": 4,
   "metadata": {},
   "outputs": [],
   "source": [
    "def decoder(list):\n",
    "    label_index = np.argmax(list, axis=1)\n",
    "    label = encoder.inverse_transform(label_index)\n",
    "    return label"
   ]
  },
  {
   "cell_type": "code",
   "execution_count": null,
   "metadata": {},
   "outputs": [],
   "source": [
    "def generate_trainingData():\n",
    "    max = 1000\n",
    "    train = []\n",
    "    target = []\n",
    "    for A in range(max):\n",
    "        for B in range(max):\n",
    "            str_add = str(A)+\"+\"+str(B)\n",
    "            str_add = str_add.ljust(7)\n",
    "            train.append(str_add)\n",
    "            target.append(str(A+B).ljust(4))\n",
    "\n",
    "            str_sub = str(A) + \"-\" + str(B)\n",
    "            str_sub = str_sub.ljust(7)\n",
    "            train.append(str_sub)\n",
    "            target.append(str(A - B).ljust(4))\n",
    "    np.save(\"data/train.npy\",train)\n",
    "    np.save(\"data/target.npy\",target)\n",
    "    with open(\"data/train\",\"w\") as f:\n",
    "        for data in train:\n",
    "            f.write(data+\"\\n\")\n",
    "    with open(\"data/target\",\"w\") as f:\n",
    "        for ans in target:\n",
    "            f.write(ans+\"\\n\")"
   ]
  },
  {
   "cell_type": "code",
   "execution_count": null,
   "metadata": {},
   "outputs": [],
   "source": [
    "generate_trainingData()\n",
    "print(get_onehot(onehot_label))\n",
    "train = np.load(\"train.npy\")\n",
    "target = np.load(\"target.npy\")\n",
    "\n",
    "\n",
    "trainData = get_onehot(train)\n",
    "trainTarget = get_onehot(target)\n",
    "\n",
    "np.save(\"dataset/trainData.npy\",trainData)\n",
    "np.save(\"dataset/trainTarget.npy\",trainTarget)"
   ]
  }
 ],
 "metadata": {
  "kernelspec": {
   "display_name": "Python 3",
   "language": "python",
   "name": "python3"
  },
  "language_info": {
   "codemirror_mode": {
    "name": "ipython",
    "version": 3
   },
   "file_extension": ".py",
   "mimetype": "text/x-python",
   "name": "python",
   "nbconvert_exporter": "python",
   "pygments_lexer": "ipython3",
   "version": "3.7.3"
  }
 },
 "nbformat": 4,
 "nbformat_minor": 2
}
