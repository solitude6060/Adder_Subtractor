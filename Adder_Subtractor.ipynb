{
 "cells": [
  {
   "cell_type": "code",
   "execution_count": 1,
   "metadata": {},
   "outputs": [
    {
     "name": "stderr",
     "output_type": "stream",
     "text": [
      "Using TensorFlow backend.\n"
     ]
    }
   ],
   "source": [
    "import numpy as np\n",
    "from keras.models import Sequential \n",
    "from keras.layers import Dense, Reshape, Flatten\n",
    "from time import gmtime, strftime\n",
    "from sklearn.preprocessing import LabelEncoder\n",
    "from keras.models import load_model"
   ]
  },
  {
   "cell_type": "markdown",
   "metadata": {},
   "source": [
    "# Parameters Config"
   ]
  },
  {
   "cell_type": "code",
   "execution_count": 2,
   "metadata": {},
   "outputs": [],
   "source": [
    "class colors:\n",
    "    ok = '\\033[92m'\n",
    "    fail = '\\033[91m'\n",
    "    close = '\\033[0m'"
   ]
  },
  {
   "cell_type": "markdown",
   "metadata": {},
   "source": [
    "# Data loading and processing"
   ]
  },
  {
   "cell_type": "code",
   "execution_count": 3,
   "metadata": {},
   "outputs": [
    {
     "data": {
      "text/plain": [
       "LabelEncoder()"
      ]
     },
     "execution_count": 3,
     "metadata": {},
     "output_type": "execute_result"
    }
   ],
   "source": [
    "# onehot encode\n",
    "onehot_label = [\"0\",\"1\",\"2\",\"3\",\"4\",\"5\",\"6\",\"7\",\"8\",\"9\",\"+\",\"-\",\" \"]\n",
    "encoder = LabelEncoder()\n",
    "encoder.fit(onehot_label)"
   ]
  },
  {
   "cell_type": "code",
   "execution_count": 4,
   "metadata": {},
   "outputs": [],
   "source": [
    "# onehot encoder\n",
    "def one_hotencoder(dataset):\n",
    "    dataset_onehot = []\n",
    "    for data in dataset:\n",
    "        data_onehot = encoder.transform(list(data))\n",
    "        data_onehot = np_utils.to_categorical(data_onehot, num_classes=len(onehot_label))\n",
    "        dataset_onehot.append(data_onehot)\n",
    "    return dataset_onehot"
   ]
  },
  {
   "cell_type": "code",
   "execution_count": 24,
   "metadata": {},
   "outputs": [],
   "source": [
    "# onehot decoder\n",
    "def decoder(list):\n",
    "    label_index = np.argmax(list, axis=1)\n",
    "    label = encoder.inverse_transform(label_index)\n",
    "    #return label\n",
    "    return \"\".join(i for i in label)"
   ]
  },
  {
   "cell_type": "code",
   "execution_count": 6,
   "metadata": {},
   "outputs": [],
   "source": [
    "x_train_path = \"data/trainData.npy\"\n",
    "y_train_path = \"data/trainTarget.npy\""
   ]
  },
  {
   "cell_type": "code",
   "execution_count": 7,
   "metadata": {},
   "outputs": [],
   "source": [
    "def loadnpy(path):\n",
    "    data = np.load(path)\n",
    "    return data"
   ]
  },
  {
   "cell_type": "code",
   "execution_count": 8,
   "metadata": {},
   "outputs": [],
   "source": [
    "x_train = loadnpy(x_train_path)\n",
    "y_train = loadnpy(y_train_path)\n",
    "\n",
    "# (7, 13)\n",
    "#print(x_train[0].shape)\n",
    "# (4, 13)\n",
    "#print(y_train[0].shape)"
   ]
  },
  {
   "cell_type": "markdown",
   "metadata": {},
   "source": [
    "# Build Model"
   ]
  },
  {
   "cell_type": "code",
   "execution_count": 9,
   "metadata": {},
   "outputs": [],
   "source": [
    "def bulidModel(x_shape):\n",
    "    model = Sequential()\n",
    "    model.add(Dense(units=256, input_shape=(7, 13), activation='relu'))\n",
    "    model.add(Flatten())\n",
    "    model.add(Dense(units=64,activation='relu'))\n",
    "    model.add(Dense(units=32,activation='relu'))\n",
    "    model.add(Dense(units=16,activation='relu'))\n",
    "    model.add(Dense(units=52,activation='relu'))\n",
    "    model.add(Reshape((4, 13)))\n",
    "    model.summary()\n",
    "    \n",
    "    return model\n"
   ]
  },
  {
   "cell_type": "code",
   "execution_count": null,
   "metadata": {},
   "outputs": [
    {
     "name": "stdout",
     "output_type": "stream",
     "text": [
      "Build Model\n",
      "_________________________________________________________________\n",
      "Layer (type)                 Output Shape              Param #   \n",
      "=================================================================\n",
      "dense_6 (Dense)              (None, 7, 256)            3584      \n",
      "_________________________________________________________________\n",
      "flatten_2 (Flatten)          (None, 1792)              0         \n",
      "_________________________________________________________________\n",
      "dense_7 (Dense)              (None, 64)                114752    \n",
      "_________________________________________________________________\n",
      "dense_8 (Dense)              (None, 32)                2080      \n",
      "_________________________________________________________________\n",
      "dense_9 (Dense)              (None, 16)                528       \n",
      "_________________________________________________________________\n",
      "dense_10 (Dense)             (None, 52)                884       \n",
      "_________________________________________________________________\n",
      "reshape_2 (Reshape)          (None, 4, 13)             0         \n",
      "=================================================================\n",
      "Total params: 121,828\n",
      "Trainable params: 121,828\n",
      "Non-trainable params: 0\n",
      "_________________________________________________________________\n",
      "Model Training\n",
      "Train on 1600000 samples, validate on 400000 samples\n",
      "Epoch 1/100\n",
      "1600000/1600000 [==============================] - 135s 84us/step - loss: 0.0414 - val_loss: 0.0758\n",
      "Epoch 2/100\n",
      "1600000/1600000 [==============================] - 133s 83us/step - loss: 0.0382 - val_loss: 0.0715\n",
      "Epoch 3/100\n",
      "1600000/1600000 [==============================] - 131s 82us/step - loss: 0.0373 - val_loss: 0.0714\n",
      "Epoch 4/100\n",
      "1600000/1600000 [==============================] - 132s 82us/step - loss: 0.0361 - val_loss: 0.0760\n",
      "Epoch 5/100\n",
      "1600000/1600000 [==============================] - 130s 81us/step - loss: 0.0351 - val_loss: 0.0766\n",
      "Epoch 6/100\n",
      "1600000/1600000 [==============================] - 129s 80us/step - loss: 0.0346 - val_loss: 0.0780\n",
      "Epoch 7/100\n",
      "1600000/1600000 [==============================] - 129s 81us/step - loss: 0.0341 - val_loss: 0.0788\n",
      "Epoch 8/100\n",
      "1600000/1600000 [==============================] - 131s 82us/step - loss: 0.0338 - val_loss: 0.0880\n",
      "Epoch 9/100\n",
      "1600000/1600000 [==============================] - 131s 82us/step - loss: 0.0335 - val_loss: 0.0874\n",
      "Epoch 10/100\n",
      "1600000/1600000 [==============================] - 132s 82us/step - loss: 0.0332 - val_loss: 0.0847\n",
      "Epoch 11/100\n",
      "1600000/1600000 [==============================] - 131s 82us/step - loss: 0.0329 - val_loss: 0.0861\n",
      "Epoch 12/100\n",
      "1600000/1600000 [==============================] - 132s 83us/step - loss: 0.0326 - val_loss: 0.0841\n",
      "Epoch 13/100\n",
      "1600000/1600000 [==============================] - 133s 83us/step - loss: 0.0322 - val_loss: 0.0808\n",
      "Epoch 14/100\n",
      "1600000/1600000 [==============================] - 131s 82us/step - loss: 0.0319 - val_loss: 0.0797\n",
      "Epoch 15/100\n",
      "1254528/1600000 [======================>.......] - ETA: 26s - loss: 0.0315"
     ]
    }
   ],
   "source": [
    "print(\"Build Model\")\n",
    "\n",
    "model = bulidModel(x_train.shape)\n",
    "model.compile(loss='mse', optimizer='adam')#adam\n",
    "\n",
    "print(\"Model Training\")\n",
    "model_history = model.fit(x_train , y_train , batch_size=64 , epochs=100 , verbose=1, validation_split=0.2, shuffle=True)\n",
    "\n",
    "time = strftime(\"%Y%m%d_%H_%M\", gmtime())\n",
    "\n",
    "model.save('model+'+time+'.h5')"
   ]
  },
  {
   "cell_type": "markdown",
   "metadata": {},
   "source": [
    "# Testing"
   ]
  },
  {
   "cell_type": "code",
   "execution_count": null,
   "metadata": {},
   "outputs": [],
   "source": [
    "x_test_path = \"data/x_test.npy\"\n",
    "y_test_path = \"data/y_test.npy\"\n",
    "#model_path = \"model_20190429_14_44.h5\""
   ]
  },
  {
   "cell_type": "code",
   "execution_count": null,
   "metadata": {},
   "outputs": [],
   "source": [
    "x_test = loadnpy(x_test_path)\n",
    "y_test = loadnpy(y_test_path)\n",
    "#model = load_model(model_path)"
   ]
  },
  {
   "cell_type": "code",
   "execution_count": null,
   "metadata": {},
   "outputs": [],
   "source": [
    "#output = model.predict(x_test)\n",
    "output = model.predict_classes(x_test)"
   ]
  },
  {
   "cell_type": "code",
   "execution_count": null,
   "metadata": {},
   "outputs": [],
   "source": [
    "mse = ((y_test - output)**2).mean(axis=None)\n",
    "print(\"MSE : \", mse) \n",
    "#mse : 0.048510086 for model model_20190429_14_44.h5"
   ]
  },
  {
   "cell_type": "code",
   "execution_count": null,
   "metadata": {},
   "outputs": [],
   "source": [
    "count = 0\n",
    "for i in range(len(y_test)):\n",
    "    q = decoder(x_test[i])\n",
    "    guess = decoder(output[i])\n",
    "    correct = decoder(y_test[i])\n",
    "    print('Q', q, end=' ')\n",
    "    print('T', correct, end=' ')\n",
    "    #print(\"\\n\", correct, guess)\n",
    "    if correct == guess:\n",
    "        print('☑', end=' ')\n",
    "        count += 1\n",
    "    else:\n",
    "        print('☒', end=' ')\n",
    "    print(guess)\n",
    "\n",
    "print(\"Precision : \", count/1000)"
   ]
  },
  {
   "cell_type": "code",
   "execution_count": null,
   "metadata": {},
   "outputs": [],
   "source": []
  },
  {
   "cell_type": "code",
   "execution_count": null,
   "metadata": {},
   "outputs": [],
   "source": []
  }
 ],
 "metadata": {
  "kernelspec": {
   "display_name": "Python 3",
   "language": "python",
   "name": "python3"
  },
  "language_info": {
   "codemirror_mode": {
    "name": "ipython",
    "version": 3
   },
   "file_extension": ".py",
   "mimetype": "text/x-python",
   "name": "python",
   "nbconvert_exporter": "python",
   "pygments_lexer": "ipython3",
   "version": "3.7.3"
  }
 },
 "nbformat": 4,
 "nbformat_minor": 2
}
